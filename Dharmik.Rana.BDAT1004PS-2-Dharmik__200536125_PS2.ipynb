{
  "cells": [
    {
      "cell_type": "markdown",
      "id": "10799b95",
      "metadata": {
        "id": "10799b95"
      },
      "source": [
        "# Question 1"
      ]
    },
    {
      "cell_type": "markdown",
      "id": "ad5b94d3",
      "metadata": {
        "id": "ad5b94d3"
      },
      "source": [
        "## What value is displayed when the last expression (a) is evaluated? Explain your answer by indicating what happens in every executed statement"
      ]
    },
    {
      "cell_type": "code",
      "execution_count": 36,
      "id": "dbf1c1d8",
      "metadata": {
        "colab": {
          "base_uri": "https://localhost:8080/"
        },
        "id": "dbf1c1d8",
        "outputId": "af29d84b-c7a2-4873-9a1d-cc1d7f23022a"
      },
      "outputs": [
        {
          "output_type": "execute_result",
          "data": {
            "text/plain": [
              "6"
            ]
          },
          "metadata": {},
          "execution_count": 36
        }
      ],
      "source": [
        "a = 0\n",
        "\n",
        "def b():\n",
        "    \n",
        "    global a\n",
        "    \n",
        "    a= c(a)\n",
        "    \n",
        "def c(a):\n",
        "    \n",
        "    return a + 2\n",
        "\n",
        "b()\n",
        "\n",
        "b()\n",
        "\n",
        "b()\n",
        "\n",
        "a"
      ]
    },
    {
      "cell_type": "code",
      "execution_count": 37,
      "id": "42cff22d",
      "metadata": {
        "id": "42cff22d"
      },
      "outputs": [],
      "source": [
        "#Explanation:\n",
        "\n",
        "b()  # For the first time a's value will be 0 so in c(a), it will return 0+2=2 then global b's value will be 2\n",
        "b()  # For the second time a's value will be 2 so in c(a), it will return 2+2=4 then global b's value will be 4\n",
        "b()  # For the third time a's value will be 4 so in c(a), it will return 4+2=6 then global b's value will be 6\n",
        "a=6  # Here global namespace a is being referred, so value is 6.\n",
        "# Thus, everytime r() is getting executed, global b is getting changed,so b's value will be 6."
      ]
    },
    {
      "cell_type": "markdown",
      "id": "bab9c600",
      "metadata": {
        "id": "bab9c600"
      },
      "source": [
        "# Question 2\n",
        "\n",
        "## Function fileLength(), given to you, takes the name of a file as input and returns the length of the file:"
      ]
    },
    {
      "cell_type": "code",
      "execution_count": 38,
      "id": "e326c41e",
      "metadata": {
        "colab": {
          "base_uri": "https://localhost:8080/"
        },
        "id": "e326c41e",
        "outputId": "bcd4e36a-1a53-463a-bbfc-0fa1c0bfb53c"
      },
      "outputs": [
        {
          "output_type": "stream",
          "name": "stdout",
          "text": [
            "File Filelength(1).txt not found.\n",
            "File Filelengt.txt not found.\n"
          ]
        }
      ],
      "source": [
        "\n",
        "def fileLen(fileName):\n",
        "    \n",
        "    try:\n",
        "        \n",
        "        infile=open(fileName)\n",
        "        \n",
        "        data=infile.read()\n",
        "        \n",
        "        ln=len(data)\n",
        "        \n",
        "        infile.close()\n",
        "        \n",
        "        print(ln)\n",
        "        \n",
        "    except IOError:\n",
        "        \n",
        "        print('File ' + fileName + ' not found.')  \n",
        "                                                   \n",
        "        \n",
        "fileLen('Filelength(1).txt')\n",
        "\n",
        "fileLen('Filelengt.txt')     \n"
      ]
    },
    {
      "cell_type": "markdown",
      "id": "5c86e673",
      "metadata": {
        "id": "5c86e673"
      },
      "source": [
        "# Question 3\n",
        "\n",
        "## Now write a class named Kangaroo as a subclass of Marsupial that inherits all the attributes of Marsupial and also: a. extends the Marsupial init constructor to take, as input, the coordinates x and y of the Kangaroo object, b. supports method jump that takes number values dx and dy as input and moves the kangaroo by dx units along the x-axis and by dy units along the yaxis, and c. overloads the str operator so it behaves as shown below."
      ]
    },
    {
      "cell_type": "code",
      "execution_count": 39,
      "id": "02fdfb05",
      "metadata": {
        "colab": {
          "base_uri": "https://localhost:8080/"
        },
        "id": "02fdfb05",
        "outputId": "8eecf3f2-c122-4d56-ba59-06d9869c63be"
      },
      "outputs": [
        {
          "output_type": "stream",
          "name": "stdout",
          "text": [
            "I am a Kangaroo located at co-ordinates (0,0)\n",
            "['ball', 'gloves', 'bat']\n",
            "I am a Kangaroo located at co-ordinates (3,0)\n"
          ]
        }
      ],
      "source": [
        "class Marsupial:\n",
        "    \n",
        "    def __init__(self):\n",
        "        \n",
        "        self.Lst = []\n",
        "        \n",
        "    def put_in_pocket(self,item):\n",
        "        \n",
        "        self.Lst.append(item)\n",
        "        \n",
        "    def pocket_contents(self):\n",
        "         \n",
        "        return self.Lst\n",
        "\n",
        "class Kangaroo(Marsupial):\n",
        "    \n",
        "    def __init__(self,x,y):\n",
        "        \n",
        "        Marsupial.__init__(self)\n",
        "        \n",
        "        self.x = x\n",
        "        \n",
        "        self.y = y\n",
        "        \n",
        "    def jump(self,dx,dy):\n",
        "        \n",
        "        self.x += dx\n",
        "        \n",
        "        self.y += dy\n",
        "        \n",
        "    def __str__(self):\n",
        "        \n",
        "        return 'I am a Kangaroo located at co-ordinates ({},{})'.format(self.x,self.y)\n",
        "    \n",
        "    \n",
        "r = Marsupial()\n",
        "\n",
        "r.put_in_pocket('ball')\n",
        "\n",
        "r.put_in_pocket('gloves')\n",
        "\n",
        "r.put_in_pocket('bat')\n",
        "\n",
        "r.pocket_contents()\n",
        "\n",
        "k = Kangaroo(0,0)\n",
        "\n",
        "print(k)\n",
        "\n",
        "k.put_in_pocket('ball')\n",
        "\n",
        "k.put_in_pocket('gloves')\n",
        "\n",
        "k.put_in_pocket('bat')\n",
        "\n",
        "a=k.pocket_contents()\n",
        "\n",
        "print(a)\n",
        "\n",
        "k.jump(1,0)\n",
        "\n",
        "k.jump(1,0)\n",
        "\n",
        "k.jump(1,0)\n",
        "\n",
        "print(k)"
      ]
    },
    {
      "cell_type": "markdown",
      "id": "371f41d7",
      "metadata": {
        "id": "371f41d7"
      },
      "source": [
        "# Question 4 \n",
        "## Write function collatz() that takes a positive integer x as input and prints the Collatz sequence starting at x"
      ]
    },
    {
      "cell_type": "code",
      "execution_count": 40,
      "id": "30446c3c",
      "metadata": {
        "colab": {
          "base_uri": "https://localhost:8080/"
        },
        "id": "30446c3c",
        "outputId": "322eb5f7-880d-47fe-d8c9-346033c0d636"
      },
      "outputs": [
        {
          "output_type": "stream",
          "name": "stdout",
          "text": [
            "collatz(1)\n",
            "1\n",
            "\n",
            "collatz(10)\n",
            "10\n",
            "5\n",
            "16\n",
            "8\n",
            "4\n",
            "2\n",
            "1\n"
          ]
        }
      ],
      "source": [
        "def collatz(x):\n",
        "    \n",
        "    if x == 1:\n",
        "        \n",
        "        return [x]\n",
        "    \n",
        "    elif x%2==0:\n",
        "        \n",
        "        return [x] + collatz(int(x/2))\n",
        "    \n",
        "    else:\n",
        "        \n",
        "        return [x] + collatz(int(x*3+1))\n",
        "\n",
        "r=collatz(1)\n",
        "\n",
        "a=collatz(10)\n",
        "\n",
        "print(\"collatz(1)\")\n",
        "\n",
        "print(*r,sep = \"\\n\")\n",
        "\n",
        "print(\"\\ncollatz(10)\")\n",
        "\n",
        "print(*a, sep = \"\\n\")"
      ]
    },
    {
      "cell_type": "markdown",
      "id": "dce1529d",
      "metadata": {
        "id": "dce1529d"
      },
      "source": [
        "# Question 5\n",
        "## Write a recursive method binary() that takes a non-negative integer n and prints the binary representation of integer n"
      ]
    },
    {
      "cell_type": "code",
      "execution_count": 41,
      "id": "f6660a8b",
      "metadata": {
        "colab": {
          "base_uri": "https://localhost:8080/"
        },
        "id": "f6660a8b",
        "outputId": "07a5a5b7-1590-431b-8497-e53ecc9ab292"
      },
      "outputs": [
        {
          "output_type": "stream",
          "name": "stdout",
          "text": [
            "Enter your Number: 21\n",
            "10101"
          ]
        }
      ],
      "source": [
        "def binary(n):\n",
        "    \n",
        "    if n == 0:\n",
        "        \n",
        "        return 0\n",
        "    \n",
        "    else:\n",
        "        \n",
        "        binary(n//2)\n",
        "        \n",
        "    print(n % 2,end = '')\n",
        "\n",
        "Num = int(input(\"Enter your Number: \"))\n",
        "\n",
        "binary(Num)\n"
      ]
    },
    {
      "cell_type": "markdown",
      "id": "3a75baa7",
      "metadata": {
        "id": "3a75baa7"
      },
      "source": [
        "# Question 6"
      ]
    },
    {
      "cell_type": "code",
      "execution_count": 42,
      "id": "255ac966",
      "metadata": {
        "id": "255ac966"
      },
      "outputs": [],
      "source": [
        "from html.parser import HTMLParser\n",
        "\n",
        "class HeadingParser(HTMLParser):\n",
        "    \n",
        "    Headers = [\"h1\", \"h2\"]\n",
        "    \n",
        "    current = -1\n",
        "\n",
        "    def handle_starttag(self, tag, attrs):\n",
        "        \n",
        "        if tag in HeadingParser.Headers:\n",
        "            \n",
        "            HeadingParser.current = HeadingParser.Headers.index(tag)\n",
        "    \n",
        "    def handle_endtag(self, tag):\n",
        "        \n",
        "        if tag == HeadingParser.Headers[HeadingParser.current]:\n",
        "            \n",
        "            HeadingParser.current = -1\n",
        "            \n",
        "    def handle_data(self, data):\n",
        "        \n",
        "        if HeadingParser.current >= 0:\n",
        "            \n",
        "            print(\" \" * HeadingParser.current + data)"
      ]
    },
    {
      "cell_type": "code",
      "execution_count": 43,
      "id": "2f682544",
      "metadata": {
        "colab": {
          "base_uri": "https://localhost:8080/"
        },
        "id": "2f682544",
        "outputId": "06b9ce47-c77a-4c06-9c2b-d50487275793"
      },
      "outputs": [
        {
          "output_type": "stream",
          "name": "stdout",
          "text": [
            "File Not Found\n"
          ]
        }
      ],
      "source": [
        "try:\n",
        "  infile = open(\"w3c.html\",\"r\")\n",
        "\n",
        "  content = infile.read()\n",
        "\n",
        "  infile.close()\n",
        "\n",
        "  hp = HeadingParser()\n",
        "\n",
        "  hp.feed(content)\n",
        "except:\n",
        "  print(\"File Not Found\")\n",
        "\n"
      ]
    },
    {
      "cell_type": "markdown",
      "id": "1a2576de",
      "metadata": {
        "id": "1a2576de"
      },
      "source": [
        "# Question 7"
      ]
    },
    {
      "cell_type": "code",
      "execution_count": 44,
      "id": "da5f7ad9",
      "metadata": {
        "colab": {
          "base_uri": "https://localhost:8080/"
        },
        "id": "da5f7ad9",
        "outputId": "3c9ef949-b693-4dc2-9197-e0eaa7450821"
      },
      "outputs": [
        {
          "output_type": "stream",
          "name": "stdout",
          "text": [
            " http://reed.cs.depaul.edu/lperkovic/test1.html\n",
            " http://reed.cs.depaul.edu/lperkovic/test2.html\n",
            "  http://reed.cs.depaul.edu/lperkovic/test2.html\n"
          ]
        }
      ],
      "source": [
        "from urllib.request import urlopen\n",
        "\n",
        "from urllib.parse import urljoin\n",
        "\n",
        "from html.parser import HTMLParser\n",
        "\n",
        "class Collector(HTMLParser):\n",
        "\n",
        "    def __init__(self, url):\n",
        "        \n",
        "      \n",
        "        HTMLParser.__init__(self)\n",
        "        \n",
        "        self.url = url\n",
        "        \n",
        "        self.links = []\n",
        "\n",
        "\n",
        "    def handle_starttag(self, tag, attrs):\n",
        "        \n",
        "        if tag == 'a':\n",
        "            \n",
        "            for attr in attrs:\n",
        "                \n",
        "                if attr[0] == 'href':\n",
        "                    \n",
        "                    absolute = urljoin(self.url, attr[1])\n",
        "                    \n",
        "                    if absolute[:4] == 'http':\n",
        "                        \n",
        "                        self.links.append(absolute)\n",
        "\n",
        "    def getLinks(self):\n",
        "        \n",
        "        return self.links\n",
        "\n",
        "\n",
        "allLinks = []\n",
        "    \n",
        "def webdir(url,depth,indent):\n",
        "    \n",
        "        global allLinks\n",
        "        \n",
        "        print(indent*\" \" + url)\n",
        "        \n",
        "        if depth == 0:\n",
        "            \n",
        "            return\n",
        "        \n",
        "        for i in allLinks:\n",
        "            \n",
        "            webdir(i, depth-1, indent+1)    \n",
        "\n",
        "\n",
        "url = ' http://reed.cs.depaul.edu/lperkovic/test1.html'\n",
        "\n",
        "resource = urlopen(url)\n",
        "\n",
        "content = resource.read().decode()\n",
        "\n",
        "collector = Collector(url)\n",
        "\n",
        "collector.feed(content)\n",
        "\n",
        "allLinks = collector.getLinks()\n",
        "\n",
        "\n",
        "webdir(url,2,0)  "
      ]
    },
    {
      "cell_type": "markdown",
      "id": "606ab211",
      "metadata": {
        "id": "606ab211"
      },
      "source": [
        "# Connecting to DB, Creating Table and Entering values into it.\n"
      ]
    },
    {
      "cell_type": "code",
      "execution_count": 58,
      "id": "f2ea6e8d",
      "metadata": {
        "colab": {
          "base_uri": "https://localhost:8080/"
        },
        "id": "f2ea6e8d",
        "outputId": "84b8bad5-d0f2-4fad-fe2d-ea88b8873026"
      },
      "outputs": [
        {
          "output_type": "execute_result",
          "data": {
            "text/plain": [
              "<sqlite3.Cursor at 0x7f3d9593a110>"
            ]
          },
          "metadata": {},
          "execution_count": 58
        }
      ],
      "source": [
        "import sqlite3\n",
        "\n",
        "con = sqlite3.connect('ipydb1.db')\n",
        "\n",
        "rus = con.cursor()\n",
        "rus.execute(\"CREATE TABLE Weather (City text, Country text, Season text,Temperature float,Rainfall float)\")\n"
      ]
    },
    {
      "cell_type": "code",
      "execution_count": 59,
      "id": "c005b6d5",
      "metadata": {
        "colab": {
          "base_uri": "https://localhost:8080/"
        },
        "id": "c005b6d5",
        "outputId": "e592f455-38cc-4016-c8a1-812d182a3c29"
      },
      "outputs": [
        {
          "output_type": "execute_result",
          "data": {
            "text/plain": [
              "<sqlite3.Cursor at 0x7f3d9593a110>"
            ]
          },
          "metadata": {},
          "execution_count": 59
        }
      ],
      "source": [
        "rus.execute(\"INSERT INTO Weather VALUES ('Mumbai', 'India', 'Winter',24.8,5.9)\")"
      ]
    },
    {
      "cell_type": "code",
      "execution_count": 60,
      "id": "0dd13780",
      "metadata": {
        "colab": {
          "base_uri": "https://localhost:8080/"
        },
        "id": "0dd13780",
        "outputId": "c6fc209e-04a6-4464-eeae-86dd85bfd623"
      },
      "outputs": [
        {
          "output_type": "execute_result",
          "data": {
            "text/plain": [
              "<sqlite3.Cursor at 0x7f3d9593a110>"
            ]
          },
          "metadata": {},
          "execution_count": 60
        }
      ],
      "source": [
        "rus.execute(\"INSERT INTO Weather VALUES ('Mumbai', 'India', 'Spring',28.4,16.2)\")\n",
        "\n",
        "rus.execute(\"INSERT INTO Weather VALUES ('Mumbai', 'India', 'Summer',27.9,1549.4 )\")\n",
        "\n",
        "rus.execute(\"INSERT INTO Weather VALUES ('Mumbai', 'India', 'Fall',27.6,346.0)\")\n",
        "\n",
        "rus.execute(\"INSERT INTO Weather VALUES ('London', 'United Kingdom', 'Winter',4.2,207.7 )\")\n",
        "\n",
        "rus.execute(\"INSERT INTO Weather VALUES ('London', 'United Kingdom', 'Spring',8.3,169.6)\")\n",
        "\n",
        "rus.execute(\"INSERT INTO Weather VALUES ('London', 'United Kingdom', 'Summer',15.7,157.0)\")\n",
        "\n",
        "rus.execute(\"INSERT INTO Weather VALUES ('London', 'United Kingdom', 'Fall',10.4,218.5)\")\n",
        "\n",
        "rus.execute(\"INSERT INTO Weather VALUES ('Cairo', 'Egypt', 'Winter',13.6,16.5)\")\n",
        "\n",
        "rus.execute(\"INSERT INTO Weather VALUES ('Cairo', 'Egypt', 'Spring',20.7,6.5)\")\n",
        "\n",
        "rus.execute(\"INSERT INTO Weather VALUES ('Cairo', 'Egypt', 'Summer',27.7,0.1)\")\n",
        "\n",
        "rus.execute(\"INSERT INTO Weather VALUES ('Cairo', 'Egypt', 'Fall',22.2,4.5)\")\n"
      ]
    },
    {
      "cell_type": "code",
      "execution_count": 61,
      "id": "d4db7fc4",
      "metadata": {
        "colab": {
          "base_uri": "https://localhost:8080/"
        },
        "id": "d4db7fc4",
        "outputId": "8762bb9a-e6c4-4792-dd0b-b23a04324a92"
      },
      "outputs": [
        {
          "output_type": "execute_result",
          "data": {
            "text/plain": [
              "[('Mumbai', 'India', 'Winter', 24.8, 5.9),\n",
              " ('Mumbai', 'India', 'Spring', 28.4, 16.2),\n",
              " ('Mumbai', 'India', 'Summer', 27.9, 1549.4),\n",
              " ('Mumbai', 'India', 'Fall', 27.6, 346.0),\n",
              " ('London', 'United Kingdom', 'Winter', 4.2, 207.7),\n",
              " ('London', 'United Kingdom', 'Spring', 8.3, 169.6),\n",
              " ('London', 'United Kingdom', 'Summer', 15.7, 157.0),\n",
              " ('London', 'United Kingdom', 'Fall', 10.4, 218.5),\n",
              " ('Cairo', 'Egypt', 'Winter', 13.6, 16.5),\n",
              " ('Cairo', 'Egypt', 'Spring', 20.7, 6.5),\n",
              " ('Cairo', 'Egypt', 'Summer', 27.7, 0.1),\n",
              " ('Cairo', 'Egypt', 'Fall', 22.2, 4.5)]"
            ]
          },
          "metadata": {},
          "execution_count": 61
        }
      ],
      "source": [
        "rus.execute('SELECT * FROM Weather')\n",
        "\n",
        "rus.fetchall()\n"
      ]
    },
    {
      "cell_type": "markdown",
      "id": "cebdd7d4",
      "metadata": {
        "id": "cebdd7d4"
      },
      "source": [
        "# Question 8\n",
        "## Write SQL queries on the below database table that return:a) All the temperature data."
      ]
    },
    {
      "cell_type": "code",
      "execution_count": 62,
      "id": "1c0d962c",
      "metadata": {
        "colab": {
          "base_uri": "https://localhost:8080/"
        },
        "id": "1c0d962c",
        "outputId": "2de13c09-6a5d-4742-80ab-47f0538c3c0e"
      },
      "outputs": [
        {
          "output_type": "stream",
          "name": "stdout",
          "text": [
            "(24.8,)\n",
            "(28.4,)\n",
            "(27.9,)\n",
            "(27.6,)\n",
            "(4.2,)\n",
            "(8.3,)\n",
            "(15.7,)\n",
            "(10.4,)\n",
            "(13.6,)\n",
            "(20.7,)\n",
            "(27.7,)\n",
            "(22.2,)\n"
          ]
        }
      ],
      "source": [
        "rus.execute('SELECT temperature FROM Weather')\n",
        "\n",
        "R=rus.fetchall()\n",
        "\n",
        "for item in R:\n",
        "    \n",
        "    print(item)"
      ]
    },
    {
      "cell_type": "markdown",
      "id": "cbad4d5e",
      "metadata": {
        "id": "cbad4d5e"
      },
      "source": [
        "# b) All the cities, but without repetition.\n"
      ]
    },
    {
      "cell_type": "code",
      "execution_count": 63,
      "id": "0b6db729",
      "metadata": {
        "colab": {
          "base_uri": "https://localhost:8080/"
        },
        "id": "0b6db729",
        "outputId": "b961e403-6d29-4da4-eea8-648451e7c14c"
      },
      "outputs": [
        {
          "output_type": "stream",
          "name": "stdout",
          "text": [
            "('Mumbai',)\n",
            "('London',)\n",
            "('Cairo',)\n"
          ]
        }
      ],
      "source": [
        "rus.execute('SELECT DISTINCT City FROM Weather')\n",
        "\n",
        "B=rus.fetchall()\n",
        "\n",
        "for item in B:\n",
        "    \n",
        "    print(item)"
      ]
    },
    {
      "cell_type": "markdown",
      "id": "46ab2b24",
      "metadata": {
        "id": "46ab2b24"
      },
      "source": [
        "# c) All the records for India."
      ]
    },
    {
      "cell_type": "code",
      "execution_count": 64,
      "id": "82009942",
      "metadata": {
        "colab": {
          "base_uri": "https://localhost:8080/"
        },
        "id": "82009942",
        "outputId": "864faaae-028c-4165-86d7-a2f859d94d65"
      },
      "outputs": [
        {
          "output_type": "stream",
          "name": "stdout",
          "text": [
            "('Mumbai', 'India', 'Winter', 24.8, 5.9)\n",
            "('Mumbai', 'India', 'Spring', 28.4, 16.2)\n",
            "('Mumbai', 'India', 'Summer', 27.9, 1549.4)\n",
            "('Mumbai', 'India', 'Fall', 27.6, 346.0)\n"
          ]
        }
      ],
      "source": [
        "rus.execute(\"SELECT * FROM Weather WHERE Country='India'\")\n",
        "\n",
        "C=rus.fetchall()\n",
        "\n",
        "for item in C:\n",
        "    \n",
        "    print(item)\n"
      ]
    },
    {
      "cell_type": "markdown",
      "id": "7ed16709",
      "metadata": {
        "id": "7ed16709"
      },
      "source": [
        "# d) All the Fall records."
      ]
    },
    {
      "cell_type": "code",
      "execution_count": 65,
      "id": "003df681",
      "metadata": {
        "colab": {
          "base_uri": "https://localhost:8080/"
        },
        "id": "003df681",
        "outputId": "a2a79d39-d221-43a9-ffcc-c6d561bdf5ab"
      },
      "outputs": [
        {
          "output_type": "stream",
          "name": "stdout",
          "text": [
            "('Mumbai', 'India', 'Fall', 27.6, 346.0)\n",
            "('London', 'United Kingdom', 'Fall', 10.4, 218.5)\n",
            "('Cairo', 'Egypt', 'Fall', 22.2, 4.5)\n"
          ]
        }
      ],
      "source": [
        "rus.execute(\"SELECT * FROM Weather WHERE Season='Fall'\")\n",
        "\n",
        "D=rus.fetchall()\n",
        "\n",
        "for item in D:\n",
        "    \n",
        "    print(item)"
      ]
    },
    {
      "cell_type": "markdown",
      "id": "a75b8fbd",
      "metadata": {
        "id": "a75b8fbd"
      },
      "source": [
        "# e) The city, country, and season for which the average rainfall is between 200 and 400 millimeters.\n"
      ]
    },
    {
      "cell_type": "code",
      "execution_count": 66,
      "id": "78ca1384",
      "metadata": {
        "colab": {
          "base_uri": "https://localhost:8080/"
        },
        "id": "78ca1384",
        "outputId": "a93c3cb5-ebf9-47f1-f956-3ffffeb3b1e2"
      },
      "outputs": [
        {
          "output_type": "stream",
          "name": "stdout",
          "text": [
            "('Mumbai', 'India', 'Fall')\n",
            "('London', 'United Kingdom', 'Winter')\n",
            "('London', 'United Kingdom', 'Fall')\n"
          ]
        }
      ],
      "source": [
        "rus.execute(\"SELECT City,country,Season FROM Weather WHERE Rainfall BETWEEN 200 AND 400\")\n",
        "\n",
        "E=rus.fetchall()\n",
        "\n",
        "for item in E:\n",
        "    \n",
        "    print(item)"
      ]
    },
    {
      "cell_type": "markdown",
      "id": "97fca7ea",
      "metadata": {
        "id": "97fca7ea"
      },
      "source": [
        "# f) The city and country for which the average Fall temperature is above 20 degrees, in increasing temperature order."
      ]
    },
    {
      "cell_type": "code",
      "execution_count": 67,
      "id": "242eb4d2",
      "metadata": {
        "colab": {
          "base_uri": "https://localhost:8080/"
        },
        "id": "242eb4d2",
        "outputId": "727cf3d5-1df5-41ab-e1cd-46dc4baf61e0"
      },
      "outputs": [
        {
          "output_type": "stream",
          "name": "stdout",
          "text": [
            "('Cairo', 'Egypt')\n",
            "('Mumbai', 'India')\n"
          ]
        }
      ],
      "source": [
        "rus.execute(\"SELECT City,country FROM Weather WHERE Season='Fall' AND temperature > 20 ORDER BY temperature ASC\")\n",
        "\n",
        "F=rus.fetchall()\n",
        "\n",
        "for item in F:\n",
        "    \n",
        "    print(item)"
      ]
    },
    {
      "cell_type": "markdown",
      "id": "c8057895",
      "metadata": {
        "id": "c8057895"
      },
      "source": [
        "# g) The total annual rainfall for Cairo\n"
      ]
    },
    {
      "cell_type": "code",
      "execution_count": 68,
      "id": "39718586",
      "metadata": {
        "colab": {
          "base_uri": "https://localhost:8080/"
        },
        "id": "39718586",
        "outputId": "9c55a3df-8d7b-472f-846a-d1f5b09c1476"
      },
      "outputs": [
        {
          "output_type": "stream",
          "name": "stdout",
          "text": [
            "(27.6,)\n"
          ]
        }
      ],
      "source": [
        "rus.execute(\"SELECT SUM(Rainfall) FROM Weather WHERE City='Cairo'\")\n",
        "\n",
        "G=rus.fetchall()\n",
        "\n",
        "for item in G:\n",
        "    \n",
        "    print(item)"
      ]
    },
    {
      "cell_type": "markdown",
      "id": "b78974fa",
      "metadata": {
        "id": "b78974fa"
      },
      "source": [
        "# h) The total rainfall for each season."
      ]
    },
    {
      "cell_type": "code",
      "execution_count": 69,
      "id": "88982e80",
      "metadata": {
        "colab": {
          "base_uri": "https://localhost:8080/"
        },
        "id": "88982e80",
        "outputId": "3b3ccbe6-548e-4792-d79b-da1020ae7812"
      },
      "outputs": [
        {
          "output_type": "stream",
          "name": "stdout",
          "text": [
            "(569.0,)\n",
            "(192.29999999999998,)\n",
            "(1706.5,)\n",
            "(230.1,)\n"
          ]
        }
      ],
      "source": [
        "rus.execute(\"SELECT SUM(Rainfall) FROM Weather GROUP BY Season\")\n",
        "\n",
        "H=rus.fetchall()\n",
        "\n",
        "for item in H:\n",
        "    \n",
        "    print(item)"
      ]
    },
    {
      "cell_type": "markdown",
      "id": "e58c4fcf",
      "metadata": {
        "id": "e58c4fcf"
      },
      "source": [
        "# Question 9 \n",
        "## Suppose list words is defined as follows: words = ['The', 'quick', 'brown', 'fox', 'jumps', 'over', 'the', 'lazy', 'dog'] Write list comprehension expressions that use list words and generate the following lists:"
      ]
    },
    {
      "cell_type": "code",
      "execution_count": 46,
      "id": "70ecaa58",
      "metadata": {
        "id": "70ecaa58"
      },
      "outputs": [],
      "source": [
        "words = ['The', 'quick', 'brown', 'fox', 'jumps', 'over','the', 'lazy', 'dog']"
      ]
    },
    {
      "cell_type": "markdown",
      "id": "df6d5619",
      "metadata": {
        "id": "df6d5619"
      },
      "source": [
        "### A"
      ]
    },
    {
      "cell_type": "code",
      "execution_count": 47,
      "id": "caca6bb5",
      "metadata": {
        "colab": {
          "base_uri": "https://localhost:8080/"
        },
        "id": "caca6bb5",
        "outputId": "6cced317-696b-4fd5-add6-0be0144249cf"
      },
      "outputs": [
        {
          "output_type": "stream",
          "name": "stdout",
          "text": [
            "['THE', 'QUICK', 'BROWN', 'FOX', 'JUMPS', 'OVER', 'THE', 'LAZY', 'DOG']\n"
          ]
        }
      ],
      "source": [
        "A = [elements.upper() for elements in words]\n",
        "\n",
        "print (A)\n"
      ]
    },
    {
      "cell_type": "markdown",
      "id": "78aa1a42",
      "metadata": {
        "id": "78aa1a42"
      },
      "source": [
        "### B"
      ]
    },
    {
      "cell_type": "code",
      "execution_count": 48,
      "id": "7a1b833c",
      "metadata": {
        "colab": {
          "base_uri": "https://localhost:8080/"
        },
        "id": "7a1b833c",
        "outputId": "01fd2c11-ed6d-48ca-f4f5-77f9abc2e0f7"
      },
      "outputs": [
        {
          "output_type": "stream",
          "name": "stdout",
          "text": [
            "['the', 'quick', 'brown', 'fox', 'jumps', 'over', 'the', 'lazy', 'dog']\n"
          ]
        }
      ],
      "source": [
        "B = [elements.lower() for elements in words]\n",
        "\n",
        "print(B)"
      ]
    },
    {
      "cell_type": "markdown",
      "id": "55232db1",
      "metadata": {
        "id": "55232db1"
      },
      "source": [
        "### C"
      ]
    },
    {
      "cell_type": "code",
      "execution_count": 49,
      "id": "7821aaad",
      "metadata": {
        "colab": {
          "base_uri": "https://localhost:8080/"
        },
        "id": "7821aaad",
        "outputId": "d522abc4-d5e2-4164-9133-e7837e08f1d2"
      },
      "outputs": [
        {
          "output_type": "stream",
          "name": "stdout",
          "text": [
            "[3, 5, 5, 3, 5, 4, 3, 4, 3]\n"
          ]
        }
      ],
      "source": [
        "C = [len(elements) for elements in words]\n",
        "\n",
        "print(C)"
      ]
    },
    {
      "cell_type": "markdown",
      "id": "5765775f",
      "metadata": {
        "id": "5765775f"
      },
      "source": [
        "### D"
      ]
    },
    {
      "cell_type": "code",
      "execution_count": 50,
      "id": "bd14f4af",
      "metadata": {
        "colab": {
          "base_uri": "https://localhost:8080/"
        },
        "id": "bd14f4af",
        "outputId": "aaf3d6f2-df05-43d1-bb1c-4ecdb1325a90"
      },
      "outputs": [
        {
          "output_type": "stream",
          "name": "stdout",
          "text": [
            "[['THE', 'the', 3], ['QUICK', 'quick', 5], ['BROWN', 'brown', 5], ['FOX', 'fox', 3], ['JUMPS', 'jumps', 5], ['OVER', 'over', 4], ['THE', 'the', 3], ['LAZY', 'lazy', 4], ['DOG', 'dog', 3]]\n"
          ]
        }
      ],
      "source": [
        "D = [[elements.upper(),elements.lower(),len(elements)] for elements in words]\n",
        "\n",
        "print(D)"
      ]
    },
    {
      "cell_type": "markdown",
      "id": "1f7c66ae",
      "metadata": {
        "id": "1f7c66ae"
      },
      "source": [
        "### E"
      ]
    },
    {
      "cell_type": "code",
      "execution_count": 51,
      "id": "b7e89e01",
      "metadata": {
        "colab": {
          "base_uri": "https://localhost:8080/"
        },
        "id": "b7e89e01",
        "outputId": "c8bc0781-340c-48e6-f4e8-dc16362de9b3"
      },
      "outputs": [
        {
          "output_type": "stream",
          "name": "stdout",
          "text": [
            "['quick', 'brown', 'jumps', 'over', 'lazy']\n"
          ]
        }
      ],
      "source": [
        "E = [elements for elements in words if len(elements)>=4]\n",
        "\n",
        "print(E)"
      ]
    }
  ],
  "metadata": {
    "kernelspec": {
      "display_name": "Python 3 (ipykernel)",
      "language": "python",
      "name": "python3"
    },
    "language_info": {
      "codemirror_mode": {
        "name": "ipython",
        "version": 3
      },
      "file_extension": ".py",
      "mimetype": "text/x-python",
      "name": "python",
      "nbconvert_exporter": "python",
      "pygments_lexer": "ipython3",
      "version": "3.9.7"
    },
    "colab": {
      "provenance": []
    }
  },
  "nbformat": 4,
  "nbformat_minor": 5
}